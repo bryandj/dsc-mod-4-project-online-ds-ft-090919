{
 "cells": [
  {
   "cell_type": "markdown",
   "metadata": {},
   "source": [
    "### Mod 4 Project - Starter Notebook\n",
    "\n",
    "This notebook has been provided to you so that you can make use of the following starter code to help with the trickier parts of preprocessing the Zillow dataset. \n",
    "\n",
    "The notebook contains a rough outline the general order you'll likely want to take in this project. You'll notice that most of the areas are left blank. This is so that it's more obvious exactly when you should make use of the starter code provided for preprocessing. \n",
    "\n",
    "**_NOTE:_** The number of empty cells are not meant to infer how much or how little code should be involved in any given step--we've just provided a few for your convenience. Add, delete, and change things around in this notebook as needed!\n",
    "\n",
    "# Some Notes Before Starting\n",
    "\n",
    "This project will be one of the more challenging projects you complete in this program. This is because working with Time Series data is a bit different than working with regular datasets. In order to make this a bit less frustrating and help you understand what you need to do (and when you need to do it), we'll quickly review the dataset formats that you'll encounter in this project. \n",
    "\n",
    "## Wide Format vs Long Format\n",
    "\n",
    "If you take a look at the format of the data in `zillow_data.csv`, you'll notice that the actual Time Series values are stored as separate columns. Here's a sample: \n",
    "\n",
    "<img src='~/../images/df_head.png'>\n",
    "\n",
    "You'll notice that the first seven columns look like any other dataset you're used to working with. However, column 8 refers to the median housing sales values for April 1996, column 9 for May 1996, and so on. This This is called **_Wide Format_**, and it makes the dataframe intuitive and easy to read. However, there are problems with this format when it comes to actually learning from the data, because the data only makes sense if you know the name of the column that the data can be found it. Since column names are metadata, our algorithms will miss out on what dates each value is for. This means that before we pass this data to our ARIMA model, we'll need to reshape our dataset to **_Long Format_**. Reshaped into long format, the dataframe above would now look like:\n",
    "\n",
    "<img src='~/../images/melted1.png'>\n",
    "\n",
    "There are now many more rows in this dataset--one for each unique time and zipcode combination in the data! Once our dataset is in this format, we'll be able to train an ARIMA model on it. The method used to convert from Wide to Long is `pd.melt()`, and it is common to refer to our dataset as 'melted' after the transition to denote that it is in long format. \n",
    "\n",
    "# Helper Functions Provided\n",
    "\n",
    "Melting a dataset can be tricky if you've never done it before, so you'll see that we have provided a sample function, `melt_data()`, to help you with this step below. Also provided is:\n",
    "\n",
    "* `get_datetimes()`, a function to deal with converting the column values for datetimes as a pandas series of datetime objects\n",
    "* Some good parameters for matplotlib to help make your visualizations more readable. \n",
    "\n",
    "Good luck!\n",
    "\n",
    "\n",
    "# Step 1: Load the Data/Filtering for Chosen Zipcodes"
   ]
  },
  {
   "cell_type": "code",
   "execution_count": 1,
   "metadata": {},
   "outputs": [
    {
     "data": {
      "text/html": [
       "<div>\n",
       "<style scoped>\n",
       "    .dataframe tbody tr th:only-of-type {\n",
       "        vertical-align: middle;\n",
       "    }\n",
       "\n",
       "    .dataframe tbody tr th {\n",
       "        vertical-align: top;\n",
       "    }\n",
       "\n",
       "    .dataframe thead th {\n",
       "        text-align: right;\n",
       "    }\n",
       "</style>\n",
       "<table border=\"1\" class=\"dataframe\">\n",
       "  <thead>\n",
       "    <tr style=\"text-align: right;\">\n",
       "      <th></th>\n",
       "      <th>RegionID</th>\n",
       "      <th>RegionName</th>\n",
       "      <th>City</th>\n",
       "      <th>State</th>\n",
       "      <th>Metro</th>\n",
       "      <th>CountyName</th>\n",
       "      <th>SizeRank</th>\n",
       "      <th>1996-04</th>\n",
       "      <th>1996-05</th>\n",
       "      <th>1996-06</th>\n",
       "      <th>...</th>\n",
       "      <th>2017-07</th>\n",
       "      <th>2017-08</th>\n",
       "      <th>2017-09</th>\n",
       "      <th>2017-10</th>\n",
       "      <th>2017-11</th>\n",
       "      <th>2017-12</th>\n",
       "      <th>2018-01</th>\n",
       "      <th>2018-02</th>\n",
       "      <th>2018-03</th>\n",
       "      <th>2018-04</th>\n",
       "    </tr>\n",
       "  </thead>\n",
       "  <tbody>\n",
       "    <tr>\n",
       "      <th>0</th>\n",
       "      <td>84654</td>\n",
       "      <td>60657</td>\n",
       "      <td>Chicago</td>\n",
       "      <td>IL</td>\n",
       "      <td>Chicago</td>\n",
       "      <td>Cook</td>\n",
       "      <td>1</td>\n",
       "      <td>334200.0</td>\n",
       "      <td>335400.0</td>\n",
       "      <td>336500.0</td>\n",
       "      <td>...</td>\n",
       "      <td>1005500</td>\n",
       "      <td>1007500</td>\n",
       "      <td>1007800</td>\n",
       "      <td>1009600</td>\n",
       "      <td>1013300</td>\n",
       "      <td>1018700</td>\n",
       "      <td>1024400</td>\n",
       "      <td>1030700</td>\n",
       "      <td>1033800</td>\n",
       "      <td>1030600</td>\n",
       "    </tr>\n",
       "    <tr>\n",
       "      <th>1</th>\n",
       "      <td>90668</td>\n",
       "      <td>75070</td>\n",
       "      <td>McKinney</td>\n",
       "      <td>TX</td>\n",
       "      <td>Dallas-Fort Worth</td>\n",
       "      <td>Collin</td>\n",
       "      <td>2</td>\n",
       "      <td>235700.0</td>\n",
       "      <td>236900.0</td>\n",
       "      <td>236700.0</td>\n",
       "      <td>...</td>\n",
       "      <td>308000</td>\n",
       "      <td>310000</td>\n",
       "      <td>312500</td>\n",
       "      <td>314100</td>\n",
       "      <td>315000</td>\n",
       "      <td>316600</td>\n",
       "      <td>318100</td>\n",
       "      <td>319600</td>\n",
       "      <td>321100</td>\n",
       "      <td>321800</td>\n",
       "    </tr>\n",
       "    <tr>\n",
       "      <th>2</th>\n",
       "      <td>91982</td>\n",
       "      <td>77494</td>\n",
       "      <td>Katy</td>\n",
       "      <td>TX</td>\n",
       "      <td>Houston</td>\n",
       "      <td>Harris</td>\n",
       "      <td>3</td>\n",
       "      <td>210400.0</td>\n",
       "      <td>212200.0</td>\n",
       "      <td>212200.0</td>\n",
       "      <td>...</td>\n",
       "      <td>321000</td>\n",
       "      <td>320600</td>\n",
       "      <td>320200</td>\n",
       "      <td>320400</td>\n",
       "      <td>320800</td>\n",
       "      <td>321200</td>\n",
       "      <td>321200</td>\n",
       "      <td>323000</td>\n",
       "      <td>326900</td>\n",
       "      <td>329900</td>\n",
       "    </tr>\n",
       "    <tr>\n",
       "      <th>3</th>\n",
       "      <td>84616</td>\n",
       "      <td>60614</td>\n",
       "      <td>Chicago</td>\n",
       "      <td>IL</td>\n",
       "      <td>Chicago</td>\n",
       "      <td>Cook</td>\n",
       "      <td>4</td>\n",
       "      <td>498100.0</td>\n",
       "      <td>500900.0</td>\n",
       "      <td>503100.0</td>\n",
       "      <td>...</td>\n",
       "      <td>1289800</td>\n",
       "      <td>1287700</td>\n",
       "      <td>1287400</td>\n",
       "      <td>1291500</td>\n",
       "      <td>1296600</td>\n",
       "      <td>1299000</td>\n",
       "      <td>1302700</td>\n",
       "      <td>1306400</td>\n",
       "      <td>1308500</td>\n",
       "      <td>1307000</td>\n",
       "    </tr>\n",
       "    <tr>\n",
       "      <th>4</th>\n",
       "      <td>93144</td>\n",
       "      <td>79936</td>\n",
       "      <td>El Paso</td>\n",
       "      <td>TX</td>\n",
       "      <td>El Paso</td>\n",
       "      <td>El Paso</td>\n",
       "      <td>5</td>\n",
       "      <td>77300.0</td>\n",
       "      <td>77300.0</td>\n",
       "      <td>77300.0</td>\n",
       "      <td>...</td>\n",
       "      <td>119100</td>\n",
       "      <td>119400</td>\n",
       "      <td>120000</td>\n",
       "      <td>120300</td>\n",
       "      <td>120300</td>\n",
       "      <td>120300</td>\n",
       "      <td>120300</td>\n",
       "      <td>120500</td>\n",
       "      <td>121000</td>\n",
       "      <td>121500</td>\n",
       "    </tr>\n",
       "  </tbody>\n",
       "</table>\n",
       "<p>5 rows × 272 columns</p>\n",
       "</div>"
      ],
      "text/plain": [
       "   RegionID  RegionName      City State              Metro CountyName  \\\n",
       "0     84654       60657   Chicago    IL            Chicago       Cook   \n",
       "1     90668       75070  McKinney    TX  Dallas-Fort Worth     Collin   \n",
       "2     91982       77494      Katy    TX            Houston     Harris   \n",
       "3     84616       60614   Chicago    IL            Chicago       Cook   \n",
       "4     93144       79936   El Paso    TX            El Paso    El Paso   \n",
       "\n",
       "   SizeRank   1996-04   1996-05   1996-06  ...  2017-07  2017-08  2017-09  \\\n",
       "0         1  334200.0  335400.0  336500.0  ...  1005500  1007500  1007800   \n",
       "1         2  235700.0  236900.0  236700.0  ...   308000   310000   312500   \n",
       "2         3  210400.0  212200.0  212200.0  ...   321000   320600   320200   \n",
       "3         4  498100.0  500900.0  503100.0  ...  1289800  1287700  1287400   \n",
       "4         5   77300.0   77300.0   77300.0  ...   119100   119400   120000   \n",
       "\n",
       "   2017-10  2017-11  2017-12  2018-01  2018-02  2018-03  2018-04  \n",
       "0  1009600  1013300  1018700  1024400  1030700  1033800  1030600  \n",
       "1   314100   315000   316600   318100   319600   321100   321800  \n",
       "2   320400   320800   321200   321200   323000   326900   329900  \n",
       "3  1291500  1296600  1299000  1302700  1306400  1308500  1307000  \n",
       "4   120300   120300   120300   120300   120500   121000   121500  \n",
       "\n",
       "[5 rows x 272 columns]"
      ]
     },
     "execution_count": 1,
     "metadata": {},
     "output_type": "execute_result"
    }
   ],
   "source": [
    "import pandas as pd\n",
    "import numpy as np\n",
    "import matplotlib.pyplot as plt\n",
    "import matplotlib.pylab as plt\n",
    "%matplotlib inline\n",
    "import statsmodels.api as sm\n",
    "from statsmodels.tsa.seasonal import seasonal_decompose\n",
    "import itertools\n",
    "\n",
    "import warnings\n",
    "def fxn():\n",
    "    warnings.warn(\"deprecated\", DeprecationWarning)\n",
    "\n",
    "with warnings.catch_warnings():\n",
    "    warnings.simplefilter(\"ignore\")\n",
    "    fxn()\n",
    "    \n",
    "df = pd.read_csv(\"zillow_data.csv\")\n",
    "df.head()"
   ]
  },
  {
   "cell_type": "code",
   "execution_count": 2,
   "metadata": {},
   "outputs": [],
   "source": [
    "import helper_functions as hf"
   ]
  },
  {
   "cell_type": "code",
   "execution_count": 3,
   "metadata": {},
   "outputs": [],
   "source": [
    "from importlib import reload\n",
    "from helper_functions import hf_ml as hfm\n",
    "from helper_functions import hf_arima as hfa"
   ]
  },
  {
   "cell_type": "code",
   "execution_count": 4,
   "metadata": {},
   "outputs": [],
   "source": [
    "from helper_functions import hf_arima as hfa"
   ]
  },
  {
   "cell_type": "code",
   "execution_count": 5,
   "metadata": {},
   "outputs": [
    {
     "data": {
      "text/plain": [
       "<module 'helper_functions' from '/Users/bryanjamieson/flatiron/dsc-mod-4-project-online-ds-ft-090919/helper_functions/__init__.py'>"
      ]
     },
     "execution_count": 5,
     "metadata": {},
     "output_type": "execute_result"
    }
   ],
   "source": [
    "reload(hf)"
   ]
  },
  {
   "cell_type": "code",
   "execution_count": 6,
   "metadata": {},
   "outputs": [
    {
     "data": {
      "text/plain": [
       "8"
      ]
     },
     "execution_count": 6,
     "metadata": {},
     "output_type": "execute_result"
    }
   ],
   "source": [
    "hfa.summ(3, 5)"
   ]
  },
  {
   "cell_type": "code",
   "execution_count": 7,
   "metadata": {},
   "outputs": [
    {
     "data": {
      "text/html": [
       "<div>\n",
       "<style scoped>\n",
       "    .dataframe tbody tr th:only-of-type {\n",
       "        vertical-align: middle;\n",
       "    }\n",
       "\n",
       "    .dataframe tbody tr th {\n",
       "        vertical-align: top;\n",
       "    }\n",
       "\n",
       "    .dataframe thead th {\n",
       "        text-align: right;\n",
       "    }\n",
       "</style>\n",
       "<table border=\"1\" class=\"dataframe\">\n",
       "  <thead>\n",
       "    <tr style=\"text-align: right;\">\n",
       "      <th></th>\n",
       "      <th>RegionID</th>\n",
       "      <th>RegionName</th>\n",
       "      <th>City</th>\n",
       "      <th>State</th>\n",
       "      <th>Metro</th>\n",
       "      <th>CountyName</th>\n",
       "      <th>SizeRank</th>\n",
       "      <th>1996-04</th>\n",
       "      <th>1996-05</th>\n",
       "      <th>1996-06</th>\n",
       "      <th>...</th>\n",
       "      <th>2017-07</th>\n",
       "      <th>2017-08</th>\n",
       "      <th>2017-09</th>\n",
       "      <th>2017-10</th>\n",
       "      <th>2017-11</th>\n",
       "      <th>2017-12</th>\n",
       "      <th>2018-01</th>\n",
       "      <th>2018-02</th>\n",
       "      <th>2018-03</th>\n",
       "      <th>2018-04</th>\n",
       "    </tr>\n",
       "  </thead>\n",
       "  <tbody>\n",
       "    <tr>\n",
       "      <th>28</th>\n",
       "      <td>71067</td>\n",
       "      <td>30349</td>\n",
       "      <td>Riverdale</td>\n",
       "      <td>GA</td>\n",
       "      <td>Atlanta</td>\n",
       "      <td>Clayton</td>\n",
       "      <td>29</td>\n",
       "      <td>90900.0</td>\n",
       "      <td>91100.0</td>\n",
       "      <td>91200.0</td>\n",
       "      <td>...</td>\n",
       "      <td>118700</td>\n",
       "      <td>119900</td>\n",
       "      <td>121400</td>\n",
       "      <td>122900</td>\n",
       "      <td>123800</td>\n",
       "      <td>124600</td>\n",
       "      <td>126200</td>\n",
       "      <td>127300</td>\n",
       "      <td>127700</td>\n",
       "      <td>128100</td>\n",
       "    </tr>\n",
       "    <tr>\n",
       "      <th>42</th>\n",
       "      <td>70829</td>\n",
       "      <td>30044</td>\n",
       "      <td>Lawrenceville</td>\n",
       "      <td>GA</td>\n",
       "      <td>Atlanta</td>\n",
       "      <td>Gwinnett</td>\n",
       "      <td>43</td>\n",
       "      <td>111400.0</td>\n",
       "      <td>111800.0</td>\n",
       "      <td>112200.0</td>\n",
       "      <td>...</td>\n",
       "      <td>169500</td>\n",
       "      <td>170900</td>\n",
       "      <td>172800</td>\n",
       "      <td>174700</td>\n",
       "      <td>176400</td>\n",
       "      <td>178500</td>\n",
       "      <td>180100</td>\n",
       "      <td>181000</td>\n",
       "      <td>182200</td>\n",
       "      <td>183400</td>\n",
       "    </tr>\n",
       "    <tr>\n",
       "      <th>51</th>\n",
       "      <td>70828</td>\n",
       "      <td>30043</td>\n",
       "      <td>Lawrenceville</td>\n",
       "      <td>GA</td>\n",
       "      <td>Atlanta</td>\n",
       "      <td>Gwinnett</td>\n",
       "      <td>52</td>\n",
       "      <td>135200.0</td>\n",
       "      <td>135500.0</td>\n",
       "      <td>135800.0</td>\n",
       "      <td>...</td>\n",
       "      <td>213600</td>\n",
       "      <td>216000</td>\n",
       "      <td>218400</td>\n",
       "      <td>220300</td>\n",
       "      <td>221900</td>\n",
       "      <td>223700</td>\n",
       "      <td>225500</td>\n",
       "      <td>226700</td>\n",
       "      <td>227800</td>\n",
       "      <td>228800</td>\n",
       "    </tr>\n",
       "    <tr>\n",
       "      <th>65</th>\n",
       "      <td>70874</td>\n",
       "      <td>30096</td>\n",
       "      <td>Duluth</td>\n",
       "      <td>GA</td>\n",
       "      <td>Atlanta</td>\n",
       "      <td>Gwinnett</td>\n",
       "      <td>66</td>\n",
       "      <td>119700.0</td>\n",
       "      <td>120000.0</td>\n",
       "      <td>120300.0</td>\n",
       "      <td>...</td>\n",
       "      <td>205900</td>\n",
       "      <td>207600</td>\n",
       "      <td>209400</td>\n",
       "      <td>211200</td>\n",
       "      <td>212700</td>\n",
       "      <td>214600</td>\n",
       "      <td>216500</td>\n",
       "      <td>218100</td>\n",
       "      <td>219800</td>\n",
       "      <td>221100</td>\n",
       "    </tr>\n",
       "    <tr>\n",
       "      <th>78</th>\n",
       "      <td>70810</td>\n",
       "      <td>30024</td>\n",
       "      <td>Suwanee</td>\n",
       "      <td>GA</td>\n",
       "      <td>Atlanta</td>\n",
       "      <td>Gwinnett</td>\n",
       "      <td>79</td>\n",
       "      <td>179600.0</td>\n",
       "      <td>181000.0</td>\n",
       "      <td>182400.0</td>\n",
       "      <td>...</td>\n",
       "      <td>330100</td>\n",
       "      <td>331700</td>\n",
       "      <td>333400</td>\n",
       "      <td>334800</td>\n",
       "      <td>336100</td>\n",
       "      <td>338600</td>\n",
       "      <td>341300</td>\n",
       "      <td>343200</td>\n",
       "      <td>344900</td>\n",
       "      <td>346300</td>\n",
       "    </tr>\n",
       "    <tr>\n",
       "      <th>101</th>\n",
       "      <td>71005</td>\n",
       "      <td>30281</td>\n",
       "      <td>Stockbridge</td>\n",
       "      <td>GA</td>\n",
       "      <td>Atlanta</td>\n",
       "      <td>Henry</td>\n",
       "      <td>102</td>\n",
       "      <td>94300.0</td>\n",
       "      <td>95700.0</td>\n",
       "      <td>97100.0</td>\n",
       "      <td>...</td>\n",
       "      <td>145100</td>\n",
       "      <td>146400</td>\n",
       "      <td>147400</td>\n",
       "      <td>148200</td>\n",
       "      <td>149300</td>\n",
       "      <td>149900</td>\n",
       "      <td>149400</td>\n",
       "      <td>149500</td>\n",
       "      <td>150800</td>\n",
       "      <td>151700</td>\n",
       "    </tr>\n",
       "    <tr>\n",
       "      <th>176</th>\n",
       "      <td>70825</td>\n",
       "      <td>30040</td>\n",
       "      <td>Cumming</td>\n",
       "      <td>GA</td>\n",
       "      <td>Atlanta</td>\n",
       "      <td>Forsyth</td>\n",
       "      <td>177</td>\n",
       "      <td>145200.0</td>\n",
       "      <td>145400.0</td>\n",
       "      <td>145900.0</td>\n",
       "      <td>...</td>\n",
       "      <td>277200</td>\n",
       "      <td>278300</td>\n",
       "      <td>279900</td>\n",
       "      <td>281600</td>\n",
       "      <td>283400</td>\n",
       "      <td>285900</td>\n",
       "      <td>288100</td>\n",
       "      <td>290000</td>\n",
       "      <td>292100</td>\n",
       "      <td>293200</td>\n",
       "    </tr>\n",
       "    <tr>\n",
       "      <th>177</th>\n",
       "      <td>70953</td>\n",
       "      <td>30188</td>\n",
       "      <td>Woodstock</td>\n",
       "      <td>GA</td>\n",
       "      <td>Atlanta</td>\n",
       "      <td>Cherokee</td>\n",
       "      <td>178</td>\n",
       "      <td>119200.0</td>\n",
       "      <td>119500.0</td>\n",
       "      <td>119800.0</td>\n",
       "      <td>...</td>\n",
       "      <td>213900</td>\n",
       "      <td>215100</td>\n",
       "      <td>216400</td>\n",
       "      <td>218200</td>\n",
       "      <td>220700</td>\n",
       "      <td>223200</td>\n",
       "      <td>225200</td>\n",
       "      <td>227100</td>\n",
       "      <td>229200</td>\n",
       "      <td>230800</td>\n",
       "    </tr>\n",
       "    <tr>\n",
       "      <th>213</th>\n",
       "      <td>70859</td>\n",
       "      <td>30080</td>\n",
       "      <td>Smyrna</td>\n",
       "      <td>GA</td>\n",
       "      <td>Atlanta</td>\n",
       "      <td>Cobb</td>\n",
       "      <td>214</td>\n",
       "      <td>133000.0</td>\n",
       "      <td>133100.0</td>\n",
       "      <td>133100.0</td>\n",
       "      <td>...</td>\n",
       "      <td>282400</td>\n",
       "      <td>284400</td>\n",
       "      <td>286900</td>\n",
       "      <td>290000</td>\n",
       "      <td>293700</td>\n",
       "      <td>297100</td>\n",
       "      <td>299400</td>\n",
       "      <td>302400</td>\n",
       "      <td>307100</td>\n",
       "      <td>311000</td>\n",
       "    </tr>\n",
       "    <tr>\n",
       "      <th>221</th>\n",
       "      <td>70842</td>\n",
       "      <td>30062</td>\n",
       "      <td>Marietta</td>\n",
       "      <td>GA</td>\n",
       "      <td>Atlanta</td>\n",
       "      <td>Cobb</td>\n",
       "      <td>222</td>\n",
       "      <td>150000.0</td>\n",
       "      <td>150500.0</td>\n",
       "      <td>150900.0</td>\n",
       "      <td>...</td>\n",
       "      <td>309200</td>\n",
       "      <td>310600</td>\n",
       "      <td>313300</td>\n",
       "      <td>316500</td>\n",
       "      <td>319100</td>\n",
       "      <td>321400</td>\n",
       "      <td>323100</td>\n",
       "      <td>324700</td>\n",
       "      <td>327000</td>\n",
       "      <td>328700</td>\n",
       "    </tr>\n",
       "    <tr>\n",
       "      <th>223</th>\n",
       "      <td>70835</td>\n",
       "      <td>30052</td>\n",
       "      <td>Loganville</td>\n",
       "      <td>GA</td>\n",
       "      <td>Atlanta</td>\n",
       "      <td>Gwinnett</td>\n",
       "      <td>224</td>\n",
       "      <td>114900.0</td>\n",
       "      <td>115800.0</td>\n",
       "      <td>116600.0</td>\n",
       "      <td>...</td>\n",
       "      <td>186500</td>\n",
       "      <td>187400</td>\n",
       "      <td>188300</td>\n",
       "      <td>189400</td>\n",
       "      <td>190600</td>\n",
       "      <td>192400</td>\n",
       "      <td>194100</td>\n",
       "      <td>195400</td>\n",
       "      <td>197000</td>\n",
       "      <td>198500</td>\n",
       "    </tr>\n",
       "    <tr>\n",
       "      <th>224</th>\n",
       "      <td>70826</td>\n",
       "      <td>30041</td>\n",
       "      <td>Cumming</td>\n",
       "      <td>GA</td>\n",
       "      <td>Atlanta</td>\n",
       "      <td>Forsyth</td>\n",
       "      <td>225</td>\n",
       "      <td>168000.0</td>\n",
       "      <td>169700.0</td>\n",
       "      <td>171600.0</td>\n",
       "      <td>...</td>\n",
       "      <td>336500</td>\n",
       "      <td>338300</td>\n",
       "      <td>340700</td>\n",
       "      <td>342500</td>\n",
       "      <td>344300</td>\n",
       "      <td>346900</td>\n",
       "      <td>349400</td>\n",
       "      <td>351500</td>\n",
       "      <td>353200</td>\n",
       "      <td>353700</td>\n",
       "    </tr>\n",
       "    <tr>\n",
       "      <th>227</th>\n",
       "      <td>71050</td>\n",
       "      <td>30331</td>\n",
       "      <td>Atlanta</td>\n",
       "      <td>GA</td>\n",
       "      <td>Atlanta</td>\n",
       "      <td>Fulton</td>\n",
       "      <td>228</td>\n",
       "      <td>97100.0</td>\n",
       "      <td>97700.0</td>\n",
       "      <td>98400.0</td>\n",
       "      <td>...</td>\n",
       "      <td>130300</td>\n",
       "      <td>131300</td>\n",
       "      <td>132700</td>\n",
       "      <td>134000</td>\n",
       "      <td>135100</td>\n",
       "      <td>137000</td>\n",
       "      <td>139400</td>\n",
       "      <td>140800</td>\n",
       "      <td>141500</td>\n",
       "      <td>141600</td>\n",
       "    </tr>\n",
       "    <tr>\n",
       "      <th>254</th>\n",
       "      <td>70808</td>\n",
       "      <td>30022</td>\n",
       "      <td>Johns Creek</td>\n",
       "      <td>GA</td>\n",
       "      <td>Atlanta</td>\n",
       "      <td>Fulton</td>\n",
       "      <td>255</td>\n",
       "      <td>206900.0</td>\n",
       "      <td>207300.0</td>\n",
       "      <td>207800.0</td>\n",
       "      <td>...</td>\n",
       "      <td>393700</td>\n",
       "      <td>393900</td>\n",
       "      <td>395400</td>\n",
       "      <td>396600</td>\n",
       "      <td>397600</td>\n",
       "      <td>399600</td>\n",
       "      <td>402400</td>\n",
       "      <td>405100</td>\n",
       "      <td>407800</td>\n",
       "      <td>409000</td>\n",
       "    </tr>\n",
       "    <tr>\n",
       "      <th>296</th>\n",
       "      <td>70904</td>\n",
       "      <td>30127</td>\n",
       "      <td>Powder Springs</td>\n",
       "      <td>GA</td>\n",
       "      <td>Atlanta</td>\n",
       "      <td>Cobb</td>\n",
       "      <td>297</td>\n",
       "      <td>119300.0</td>\n",
       "      <td>119300.0</td>\n",
       "      <td>119300.0</td>\n",
       "      <td>...</td>\n",
       "      <td>182600</td>\n",
       "      <td>183600</td>\n",
       "      <td>185300</td>\n",
       "      <td>187300</td>\n",
       "      <td>189000</td>\n",
       "      <td>190600</td>\n",
       "      <td>192100</td>\n",
       "      <td>194000</td>\n",
       "      <td>197100</td>\n",
       "      <td>199500</td>\n",
       "    </tr>\n",
       "  </tbody>\n",
       "</table>\n",
       "<p>15 rows × 272 columns</p>\n",
       "</div>"
      ],
      "text/plain": [
       "     RegionID  RegionName            City State    Metro CountyName  SizeRank  \\\n",
       "28      71067       30349       Riverdale    GA  Atlanta    Clayton        29   \n",
       "42      70829       30044   Lawrenceville    GA  Atlanta   Gwinnett        43   \n",
       "51      70828       30043   Lawrenceville    GA  Atlanta   Gwinnett        52   \n",
       "65      70874       30096          Duluth    GA  Atlanta   Gwinnett        66   \n",
       "78      70810       30024         Suwanee    GA  Atlanta   Gwinnett        79   \n",
       "101     71005       30281     Stockbridge    GA  Atlanta      Henry       102   \n",
       "176     70825       30040         Cumming    GA  Atlanta    Forsyth       177   \n",
       "177     70953       30188       Woodstock    GA  Atlanta   Cherokee       178   \n",
       "213     70859       30080          Smyrna    GA  Atlanta       Cobb       214   \n",
       "221     70842       30062        Marietta    GA  Atlanta       Cobb       222   \n",
       "223     70835       30052      Loganville    GA  Atlanta   Gwinnett       224   \n",
       "224     70826       30041         Cumming    GA  Atlanta    Forsyth       225   \n",
       "227     71050       30331         Atlanta    GA  Atlanta     Fulton       228   \n",
       "254     70808       30022     Johns Creek    GA  Atlanta     Fulton       255   \n",
       "296     70904       30127  Powder Springs    GA  Atlanta       Cobb       297   \n",
       "\n",
       "      1996-04   1996-05   1996-06  ...  2017-07  2017-08  2017-09  2017-10  \\\n",
       "28    90900.0   91100.0   91200.0  ...   118700   119900   121400   122900   \n",
       "42   111400.0  111800.0  112200.0  ...   169500   170900   172800   174700   \n",
       "51   135200.0  135500.0  135800.0  ...   213600   216000   218400   220300   \n",
       "65   119700.0  120000.0  120300.0  ...   205900   207600   209400   211200   \n",
       "78   179600.0  181000.0  182400.0  ...   330100   331700   333400   334800   \n",
       "101   94300.0   95700.0   97100.0  ...   145100   146400   147400   148200   \n",
       "176  145200.0  145400.0  145900.0  ...   277200   278300   279900   281600   \n",
       "177  119200.0  119500.0  119800.0  ...   213900   215100   216400   218200   \n",
       "213  133000.0  133100.0  133100.0  ...   282400   284400   286900   290000   \n",
       "221  150000.0  150500.0  150900.0  ...   309200   310600   313300   316500   \n",
       "223  114900.0  115800.0  116600.0  ...   186500   187400   188300   189400   \n",
       "224  168000.0  169700.0  171600.0  ...   336500   338300   340700   342500   \n",
       "227   97100.0   97700.0   98400.0  ...   130300   131300   132700   134000   \n",
       "254  206900.0  207300.0  207800.0  ...   393700   393900   395400   396600   \n",
       "296  119300.0  119300.0  119300.0  ...   182600   183600   185300   187300   \n",
       "\n",
       "     2017-11  2017-12  2018-01  2018-02  2018-03  2018-04  \n",
       "28    123800   124600   126200   127300   127700   128100  \n",
       "42    176400   178500   180100   181000   182200   183400  \n",
       "51    221900   223700   225500   226700   227800   228800  \n",
       "65    212700   214600   216500   218100   219800   221100  \n",
       "78    336100   338600   341300   343200   344900   346300  \n",
       "101   149300   149900   149400   149500   150800   151700  \n",
       "176   283400   285900   288100   290000   292100   293200  \n",
       "177   220700   223200   225200   227100   229200   230800  \n",
       "213   293700   297100   299400   302400   307100   311000  \n",
       "221   319100   321400   323100   324700   327000   328700  \n",
       "223   190600   192400   194100   195400   197000   198500  \n",
       "224   344300   346900   349400   351500   353200   353700  \n",
       "227   135100   137000   139400   140800   141500   141600  \n",
       "254   397600   399600   402400   405100   407800   409000  \n",
       "296   189000   190600   192100   194000   197100   199500  \n",
       "\n",
       "[15 rows x 272 columns]"
      ]
     },
     "execution_count": 7,
     "metadata": {},
     "output_type": "execute_result"
    }
   ],
   "source": [
    "# Created new df called df_GA containing only data from counties in Georgia\n",
    "#region name = zipcode\n",
    "\n",
    "df_GA = df.loc[df[\"State\"] == 'GA']\n",
    "df_GA.head(15)"
   ]
  },
  {
   "cell_type": "code",
   "execution_count": 8,
   "metadata": {},
   "outputs": [
    {
     "data": {
      "text/plain": [
       "array(['Clayton', 'Gwinnett', 'Henry', 'Forsyth', 'Cherokee', 'Cobb',\n",
       "       'Fulton', 'Douglas', 'Chatham', 'Muscogee', 'Houston', 'Coweta',\n",
       "       'Dekalb', 'Columbia', 'Clarke', 'Newton', 'Whitfield', 'Baldwin',\n",
       "       'Hall', 'Catoosa', 'Bartow', 'Barrow', 'Floyd', 'Bulloch', 'Bibb',\n",
       "       'Gordon', 'Fayette', 'Carroll', 'Lowndes', 'Murray', 'Walker',\n",
       "       'Dougherty', 'Troup', 'Rockdale', 'Glynn', 'Dawson', 'Laurens',\n",
       "       'Bryan', 'Tift', 'Lumpkin', 'Spalding', 'Pickens', 'Upson',\n",
       "       'Walton', 'Lee', 'White', 'Thomas', 'Putnam', 'Stephens', 'Union',\n",
       "       'Polk', 'Jackson', 'Butts', 'Gilmer', 'Effingham', 'Colquitt',\n",
       "       'Camden', 'Peach', 'Ware', 'Hart', 'Greene', 'Fannin', 'Monroe',\n",
       "       'Coffee', 'Habersham', 'Jones', 'Haralson', 'Morgan', 'Lamar',\n",
       "       'Rabun', 'Liberty', 'Oconee', 'Madison', 'Harris', 'Wayne', 'Pike',\n",
       "       'Banks', 'Wilcox', 'Calhoun'], dtype=object)"
      ]
     },
     "execution_count": 8,
     "metadata": {},
     "output_type": "execute_result"
    }
   ],
   "source": [
    "df_GA['CountyName'].unique()"
   ]
  },
  {
   "cell_type": "code",
   "execution_count": 9,
   "metadata": {},
   "outputs": [],
   "source": [
    "# After taking a look at the list of counties in Georgia, I picked 3 counties that I think real estate prices will \n",
    "# increase a lot in price over the next 20 years."
   ]
  },
  {
   "cell_type": "code",
   "execution_count": 10,
   "metadata": {},
   "outputs": [],
   "source": [
    "# New df \"GA_Counties\" contains real estate data only from the 3 counties I am looking into.\n",
    "\n",
    "GA_Counties = [\"Fulton\", \"Dekalb\", \"Cobb\"]"
   ]
  },
  {
   "cell_type": "code",
   "execution_count": 11,
   "metadata": {},
   "outputs": [],
   "source": [
    "df_GA_2 = df_GA.loc[(df_GA[\"CountyName\"] == \"Fulton\")|\n",
    "          (df_GA[\"CountyName\"] == \"Dekalb\")|\n",
    "          (df_GA[\"CountyName\"] == \"Cobb\")]"
   ]
  },
  {
   "cell_type": "code",
   "execution_count": 12,
   "metadata": {},
   "outputs": [
    {
     "data": {
      "text/plain": [
       "array(['Smyrna', 'Marietta', 'Atlanta', 'Johns Creek', 'Powder Springs',\n",
       "       'Milton', 'Lithonia', 'Acworth', 'Roswell', 'Kennesaw',\n",
       "       'Brookhaven', 'Candler-Mcafee', 'Panthersville', 'Vinings',\n",
       "       'Sandy Springs', 'Mableton', 'Tucker', 'Dunwoody', 'Fairburn',\n",
       "       'Conley', 'North Decatur', 'Stone Mountain', 'North Druid Hills',\n",
       "       'Chamblee', 'Decatur', 'Alpharetta', 'Austell', 'Union City',\n",
       "       'Palmetto', 'Avondale Estates', 'Scottdale'], dtype=object)"
      ]
     },
     "execution_count": 12,
     "metadata": {},
     "output_type": "execute_result"
    }
   ],
   "source": [
    "# Here we are looking at the city names within our 3 counties\n",
    "# buckhead,roswell,atlanta\n",
    "df_GA_2[\"City\"].unique()"
   ]
  },
  {
   "cell_type": "code",
   "execution_count": 13,
   "metadata": {},
   "outputs": [
    {
     "data": {
      "text/html": [
       "<div>\n",
       "<style scoped>\n",
       "    .dataframe tbody tr th:only-of-type {\n",
       "        vertical-align: middle;\n",
       "    }\n",
       "\n",
       "    .dataframe tbody tr th {\n",
       "        vertical-align: top;\n",
       "    }\n",
       "\n",
       "    .dataframe thead th {\n",
       "        text-align: right;\n",
       "    }\n",
       "</style>\n",
       "<table border=\"1\" class=\"dataframe\">\n",
       "  <thead>\n",
       "    <tr style=\"text-align: right;\">\n",
       "      <th></th>\n",
       "      <th>RegionID</th>\n",
       "      <th>RegionName</th>\n",
       "      <th>City</th>\n",
       "      <th>State</th>\n",
       "      <th>Metro</th>\n",
       "      <th>CountyName</th>\n",
       "      <th>SizeRank</th>\n",
       "      <th>1996-04</th>\n",
       "      <th>1996-05</th>\n",
       "      <th>1996-06</th>\n",
       "      <th>...</th>\n",
       "      <th>2017-07</th>\n",
       "      <th>2017-08</th>\n",
       "      <th>2017-09</th>\n",
       "      <th>2017-10</th>\n",
       "      <th>2017-11</th>\n",
       "      <th>2017-12</th>\n",
       "      <th>2018-01</th>\n",
       "      <th>2018-02</th>\n",
       "      <th>2018-03</th>\n",
       "      <th>2018-04</th>\n",
       "    </tr>\n",
       "  </thead>\n",
       "  <tbody>\n",
       "    <tr>\n",
       "      <th>213</th>\n",
       "      <td>70859</td>\n",
       "      <td>30080</td>\n",
       "      <td>Smyrna</td>\n",
       "      <td>GA</td>\n",
       "      <td>Atlanta</td>\n",
       "      <td>Cobb</td>\n",
       "      <td>214</td>\n",
       "      <td>133000.0</td>\n",
       "      <td>133100.0</td>\n",
       "      <td>133100.0</td>\n",
       "      <td>...</td>\n",
       "      <td>282400</td>\n",
       "      <td>284400</td>\n",
       "      <td>286900</td>\n",
       "      <td>290000</td>\n",
       "      <td>293700</td>\n",
       "      <td>297100</td>\n",
       "      <td>299400</td>\n",
       "      <td>302400</td>\n",
       "      <td>307100</td>\n",
       "      <td>311000</td>\n",
       "    </tr>\n",
       "    <tr>\n",
       "      <th>221</th>\n",
       "      <td>70842</td>\n",
       "      <td>30062</td>\n",
       "      <td>Marietta</td>\n",
       "      <td>GA</td>\n",
       "      <td>Atlanta</td>\n",
       "      <td>Cobb</td>\n",
       "      <td>222</td>\n",
       "      <td>150000.0</td>\n",
       "      <td>150500.0</td>\n",
       "      <td>150900.0</td>\n",
       "      <td>...</td>\n",
       "      <td>309200</td>\n",
       "      <td>310600</td>\n",
       "      <td>313300</td>\n",
       "      <td>316500</td>\n",
       "      <td>319100</td>\n",
       "      <td>321400</td>\n",
       "      <td>323100</td>\n",
       "      <td>324700</td>\n",
       "      <td>327000</td>\n",
       "      <td>328700</td>\n",
       "    </tr>\n",
       "    <tr>\n",
       "      <th>227</th>\n",
       "      <td>71050</td>\n",
       "      <td>30331</td>\n",
       "      <td>Atlanta</td>\n",
       "      <td>GA</td>\n",
       "      <td>Atlanta</td>\n",
       "      <td>Fulton</td>\n",
       "      <td>228</td>\n",
       "      <td>97100.0</td>\n",
       "      <td>97700.0</td>\n",
       "      <td>98400.0</td>\n",
       "      <td>...</td>\n",
       "      <td>130300</td>\n",
       "      <td>131300</td>\n",
       "      <td>132700</td>\n",
       "      <td>134000</td>\n",
       "      <td>135100</td>\n",
       "      <td>137000</td>\n",
       "      <td>139400</td>\n",
       "      <td>140800</td>\n",
       "      <td>141500</td>\n",
       "      <td>141600</td>\n",
       "    </tr>\n",
       "    <tr>\n",
       "      <th>254</th>\n",
       "      <td>70808</td>\n",
       "      <td>30022</td>\n",
       "      <td>Johns Creek</td>\n",
       "      <td>GA</td>\n",
       "      <td>Atlanta</td>\n",
       "      <td>Fulton</td>\n",
       "      <td>255</td>\n",
       "      <td>206900.0</td>\n",
       "      <td>207300.0</td>\n",
       "      <td>207800.0</td>\n",
       "      <td>...</td>\n",
       "      <td>393700</td>\n",
       "      <td>393900</td>\n",
       "      <td>395400</td>\n",
       "      <td>396600</td>\n",
       "      <td>397600</td>\n",
       "      <td>399600</td>\n",
       "      <td>402400</td>\n",
       "      <td>405100</td>\n",
       "      <td>407800</td>\n",
       "      <td>409000</td>\n",
       "    </tr>\n",
       "    <tr>\n",
       "      <th>296</th>\n",
       "      <td>70904</td>\n",
       "      <td>30127</td>\n",
       "      <td>Powder Springs</td>\n",
       "      <td>GA</td>\n",
       "      <td>Atlanta</td>\n",
       "      <td>Cobb</td>\n",
       "      <td>297</td>\n",
       "      <td>119300.0</td>\n",
       "      <td>119300.0</td>\n",
       "      <td>119300.0</td>\n",
       "      <td>...</td>\n",
       "      <td>182600</td>\n",
       "      <td>183600</td>\n",
       "      <td>185300</td>\n",
       "      <td>187300</td>\n",
       "      <td>189000</td>\n",
       "      <td>190600</td>\n",
       "      <td>192100</td>\n",
       "      <td>194000</td>\n",
       "      <td>197100</td>\n",
       "      <td>199500</td>\n",
       "    </tr>\n",
       "  </tbody>\n",
       "</table>\n",
       "<p>5 rows × 272 columns</p>\n",
       "</div>"
      ],
      "text/plain": [
       "     RegionID  RegionName            City State    Metro CountyName  SizeRank  \\\n",
       "213     70859       30080          Smyrna    GA  Atlanta       Cobb       214   \n",
       "221     70842       30062        Marietta    GA  Atlanta       Cobb       222   \n",
       "227     71050       30331         Atlanta    GA  Atlanta     Fulton       228   \n",
       "254     70808       30022     Johns Creek    GA  Atlanta     Fulton       255   \n",
       "296     70904       30127  Powder Springs    GA  Atlanta       Cobb       297   \n",
       "\n",
       "      1996-04   1996-05   1996-06  ...  2017-07  2017-08  2017-09  2017-10  \\\n",
       "213  133000.0  133100.0  133100.0  ...   282400   284400   286900   290000   \n",
       "221  150000.0  150500.0  150900.0  ...   309200   310600   313300   316500   \n",
       "227   97100.0   97700.0   98400.0  ...   130300   131300   132700   134000   \n",
       "254  206900.0  207300.0  207800.0  ...   393700   393900   395400   396600   \n",
       "296  119300.0  119300.0  119300.0  ...   182600   183600   185300   187300   \n",
       "\n",
       "     2017-11  2017-12  2018-01  2018-02  2018-03  2018-04  \n",
       "213   293700   297100   299400   302400   307100   311000  \n",
       "221   319100   321400   323100   324700   327000   328700  \n",
       "227   135100   137000   139400   140800   141500   141600  \n",
       "254   397600   399600   402400   405100   407800   409000  \n",
       "296   189000   190600   192100   194000   197100   199500  \n",
       "\n",
       "[5 rows x 272 columns]"
      ]
     },
     "execution_count": 13,
     "metadata": {},
     "output_type": "execute_result"
    }
   ],
   "source": [
    "#df_GA_2[df.loc[\"Fulton\"]]\n",
    "df_GA_2.head()"
   ]
  },
  {
   "cell_type": "code",
   "execution_count": 14,
   "metadata": {},
   "outputs": [],
   "source": [
    "# Zip Code Selection - Filter Zip codes by company preferences\n",
    "# The real estate investment firm wants to know the top 5 zipcodes to invest in.\n",
    "# Criteria:\n",
    "\n",
    "# 1) Urbanization - zip code should be in top 50% according to sizerank variable.\n",
    "#In the greater Atlanta area, commuting is tough with traffic, so living in a suburb or area within 45min driving distance is essential\n",
    "\n",
    "# 2) Average House price\n",
    "#House price should be close to the average house price for that zipcode.\n",
    "\n",
    "# 3) ROI (Return on investment)\n",
    "\n",
    "# 4) Risk\n",
    "# Risk adverse investment company. Want zip codes to be selected according to a coefficient of variation below 70th percentile"
   ]
  },
  {
   "cell_type": "code",
   "execution_count": 15,
   "metadata": {},
   "outputs": [
    {
     "name": "stdout",
     "output_type": "stream",
     "text": [
      "count       59.000000\n",
      "mean      2861.525424\n",
      "std       2731.942421\n",
      "min        214.000000\n",
      "25%       1058.000000\n",
      "50%       1927.000000\n",
      "75%       3606.000000\n",
      "max      11325.000000\n",
      "Name: SizeRank, dtype: float64 \n",
      "\n"
     ]
    }
   ],
   "source": [
    "print(df_GA_2.SizeRank.describe(),'\\n')"
   ]
  },
  {
   "cell_type": "code",
   "execution_count": 16,
   "metadata": {},
   "outputs": [
    {
     "name": "stdout",
     "output_type": "stream",
     "text": [
      "GA Size Rank 50% cutoff value: 1927.0\n"
     ]
    }
   ],
   "source": [
    "GA_sr_50 = df_GA_2.SizeRank.quantile(q=0.50)\n",
    "print(f'GA Size Rank 50% cutoff value: {GA_sr_50}')"
   ]
  },
  {
   "cell_type": "code",
   "execution_count": 17,
   "metadata": {},
   "outputs": [
    {
     "name": "stdout",
     "output_type": "stream",
     "text": [
      "Amount of zipcodes: 29\n"
     ]
    }
   ],
   "source": [
    "GA_zc_t50 = df_GA_2[df_GA_2['SizeRank']<GA_sr_50].drop(['RegionID','City','State','Metro','CountyName','SizeRank'],axis=1)\n",
    "print(f'Amount of zipcodes: {len(GA_zc_t50)}')"
   ]
  },
  {
   "cell_type": "code",
   "execution_count": 18,
   "metadata": {},
   "outputs": [],
   "source": [
    "GA_zc_t50['yr_avg']=GA_zc_t50.iloc[:,-12:].mean(skipna=True, axis=1)"
   ]
  },
  {
   "cell_type": "code",
   "execution_count": 19,
   "metadata": {},
   "outputs": [
    {
     "name": "stdout",
     "output_type": "stream",
     "text": [
      "count        29.000000\n",
      "mean     333658.045977\n",
      "std      195860.519484\n",
      "min      116466.666667\n",
      "25%      188908.333333\n",
      "50%      277141.666667\n",
      "75%      412816.666667\n",
      "max      874691.666667\n",
      "Name: yr_avg, dtype: float64 \n",
      "\n"
     ]
    }
   ],
   "source": [
    "print(GA_zc_t50['yr_avg'].describe(),'\\n')"
   ]
  },
  {
   "cell_type": "code",
   "execution_count": 20,
   "metadata": {},
   "outputs": [
    {
     "name": "stdout",
     "output_type": "stream",
     "text": [
      "Average 60% Cutoff Value: 337753.33\n"
     ]
    }
   ],
   "source": [
    "q_60 = GA_zc_t50['yr_avg'].quantile(q=0.60)\n",
    "print(f'Average 60% Cutoff Value: {round(q_60,2)}')"
   ]
  },
  {
   "cell_type": "code",
   "execution_count": 21,
   "metadata": {},
   "outputs": [
    {
     "name": "stdout",
     "output_type": "stream",
     "text": [
      "Average 35% Cutoff Value: 219516.67\n"
     ]
    }
   ],
   "source": [
    "q_35 = GA_zc_t50['yr_avg'].quantile(q=0.35)\n",
    "print(f'Average 35% Cutoff Value: {round(q_35,2)}')"
   ]
  },
  {
   "cell_type": "code",
   "execution_count": 22,
   "metadata": {},
   "outputs": [
    {
     "name": "stdout",
     "output_type": "stream",
     "text": [
      "Number of Zipcodes: 7\n"
     ]
    }
   ],
   "source": [
    "# Get data frame with filtered zip codes\n",
    "\n",
    "zc_filtered = GA_zc_t50[(GA_zc_t50['yr_avg']<q_60) & (GA_zc_t50['yr_avg']>q_35)]\n",
    "print(f'Number of Zipcodes: {len(zc_filtered)}')"
   ]
  },
  {
   "cell_type": "code",
   "execution_count": 23,
   "metadata": {},
   "outputs": [
    {
     "name": "stderr",
     "output_type": "stream",
     "text": [
      "/Users/bryanjamieson/opt/anaconda3/envs/learn-env/lib/python3.6/site-packages/ipykernel_launcher.py:1: SettingWithCopyWarning: \n",
      "A value is trying to be set on a copy of a slice from a DataFrame.\n",
      "Try using .loc[row_indexer,col_indexer] = value instead\n",
      "\n",
      "See the caveats in the documentation: http://pandas.pydata.org/pandas-docs/stable/user_guide/indexing.html#returning-a-view-versus-a-copy\n",
      "  \"\"\"Entry point for launching an IPython kernel.\n"
     ]
    }
   ],
   "source": [
    "zc_filtered['ROI'] = (zc_filtered['2018-04']/zc_filtered['1996-04'])-1"
   ]
  },
  {
   "cell_type": "code",
   "execution_count": 24,
   "metadata": {},
   "outputs": [
    {
     "name": "stderr",
     "output_type": "stream",
     "text": [
      "/Users/bryanjamieson/opt/anaconda3/envs/learn-env/lib/python3.6/site-packages/ipykernel_launcher.py:1: SettingWithCopyWarning: \n",
      "A value is trying to be set on a copy of a slice from a DataFrame.\n",
      "Try using .loc[row_indexer,col_indexer] = value instead\n",
      "\n",
      "See the caveats in the documentation: http://pandas.pydata.org/pandas-docs/stable/user_guide/indexing.html#returning-a-view-versus-a-copy\n",
      "  \"\"\"Entry point for launching an IPython kernel.\n"
     ]
    }
   ],
   "source": [
    "zc_filtered['std'] = zc_filtered.loc[:,'1996-04':'2018-04'].std(skipna=True, axis=1)"
   ]
  },
  {
   "cell_type": "code",
   "execution_count": 25,
   "metadata": {},
   "outputs": [
    {
     "name": "stderr",
     "output_type": "stream",
     "text": [
      "/Users/bryanjamieson/opt/anaconda3/envs/learn-env/lib/python3.6/site-packages/ipykernel_launcher.py:1: SettingWithCopyWarning: \n",
      "A value is trying to be set on a copy of a slice from a DataFrame.\n",
      "Try using .loc[row_indexer,col_indexer] = value instead\n",
      "\n",
      "See the caveats in the documentation: http://pandas.pydata.org/pandas-docs/stable/user_guide/indexing.html#returning-a-view-versus-a-copy\n",
      "  \"\"\"Entry point for launching an IPython kernel.\n"
     ]
    }
   ],
   "source": [
    "zc_filtered['mean'] = zc_filtered.loc[:,'1996-04':'2018-04'].mean(skipna=True, axis=1)"
   ]
  },
  {
   "cell_type": "code",
   "execution_count": 26,
   "metadata": {},
   "outputs": [
    {
     "name": "stderr",
     "output_type": "stream",
     "text": [
      "/Users/bryanjamieson/opt/anaconda3/envs/learn-env/lib/python3.6/site-packages/ipykernel_launcher.py:1: SettingWithCopyWarning: \n",
      "A value is trying to be set on a copy of a slice from a DataFrame.\n",
      "Try using .loc[row_indexer,col_indexer] = value instead\n",
      "\n",
      "See the caveats in the documentation: http://pandas.pydata.org/pandas-docs/stable/user_guide/indexing.html#returning-a-view-versus-a-copy\n",
      "  \"\"\"Entry point for launching an IPython kernel.\n"
     ]
    }
   ],
   "source": [
    "zc_filtered['CV'] = zc_filtered['std']/zc_filtered['mean']"
   ]
  },
  {
   "cell_type": "code",
   "execution_count": 27,
   "metadata": {},
   "outputs": [
    {
     "data": {
      "text/html": [
       "<div>\n",
       "<style scoped>\n",
       "    .dataframe tbody tr th:only-of-type {\n",
       "        vertical-align: middle;\n",
       "    }\n",
       "\n",
       "    .dataframe tbody tr th {\n",
       "        vertical-align: top;\n",
       "    }\n",
       "\n",
       "    .dataframe thead th {\n",
       "        text-align: right;\n",
       "    }\n",
       "</style>\n",
       "<table border=\"1\" class=\"dataframe\">\n",
       "  <thead>\n",
       "    <tr style=\"text-align: right;\">\n",
       "      <th></th>\n",
       "      <th>RegionName</th>\n",
       "      <th>std</th>\n",
       "      <th>mean</th>\n",
       "      <th>ROI</th>\n",
       "      <th>CV</th>\n",
       "    </tr>\n",
       "  </thead>\n",
       "  <tbody>\n",
       "    <tr>\n",
       "      <th>213</th>\n",
       "      <td>30080</td>\n",
       "      <td>39919.584647</td>\n",
       "      <td>213763.396226</td>\n",
       "      <td>1.338346</td>\n",
       "      <td>0.186747</td>\n",
       "    </tr>\n",
       "    <tr>\n",
       "      <th>221</th>\n",
       "      <td>30062</td>\n",
       "      <td>42293.095620</td>\n",
       "      <td>226361.509434</td>\n",
       "      <td>1.191333</td>\n",
       "      <td>0.186839</td>\n",
       "    </tr>\n",
       "    <tr>\n",
       "      <th>440</th>\n",
       "      <td>30066</td>\n",
       "      <td>28359.729404</td>\n",
       "      <td>176089.811321</td>\n",
       "      <td>1.028869</td>\n",
       "      <td>0.161053</td>\n",
       "    </tr>\n",
       "    <tr>\n",
       "      <th>495</th>\n",
       "      <td>30101</td>\n",
       "      <td>22891.755053</td>\n",
       "      <td>172782.264151</td>\n",
       "      <td>0.704562</td>\n",
       "      <td>0.132489</td>\n",
       "    </tr>\n",
       "    <tr>\n",
       "      <th>1017</th>\n",
       "      <td>30064</td>\n",
       "      <td>32823.525473</td>\n",
       "      <td>207401.132075</td>\n",
       "      <td>0.949728</td>\n",
       "      <td>0.158261</td>\n",
       "    </tr>\n",
       "  </tbody>\n",
       "</table>\n",
       "</div>"
      ],
      "text/plain": [
       "      RegionName           std           mean       ROI        CV\n",
       "213        30080  39919.584647  213763.396226  1.338346  0.186747\n",
       "221        30062  42293.095620  226361.509434  1.191333  0.186839\n",
       "440        30066  28359.729404  176089.811321  1.028869  0.161053\n",
       "495        30101  22891.755053  172782.264151  0.704562  0.132489\n",
       "1017       30064  32823.525473  207401.132075  0.949728  0.158261"
      ]
     },
     "execution_count": 27,
     "metadata": {},
     "output_type": "execute_result"
    }
   ],
   "source": [
    "zc_filtered[['RegionName','std','mean','ROI','CV']].head()"
   ]
  },
  {
   "cell_type": "code",
   "execution_count": 28,
   "metadata": {},
   "outputs": [
    {
     "name": "stdout",
     "output_type": "stream",
     "text": [
      "count    7.000000\n",
      "mean     0.186609\n",
      "std      0.069124\n",
      "min      0.132489\n",
      "25%      0.151275\n",
      "50%      0.161053\n",
      "75%      0.186793\n",
      "max      0.336582\n",
      "Name: CV, dtype: float64\n",
      "\n",
      "CV Upper Limit: 0.18676501434287818\n"
     ]
    }
   ],
   "source": [
    "print(zc_filtered.CV.describe())\n",
    "cv_upper = zc_filtered.CV.quantile(.7)\n",
    "print(f'\\nCV Upper Limit: {cv_upper}')"
   ]
  },
  {
   "cell_type": "code",
   "execution_count": 29,
   "metadata": {},
   "outputs": [],
   "source": [
    "zc_best = zc_filtered[zc_filtered['CV']<cv_upper].sort_values('ROI', axis=0,ascending=False)[:5]"
   ]
  },
  {
   "cell_type": "code",
   "execution_count": 30,
   "metadata": {},
   "outputs": [
    {
     "name": "stdout",
     "output_type": "stream",
     "text": [
      "\n",
      " Top 5 Zipcodes to Invest in\n"
     ]
    },
    {
     "data": {
      "text/html": [
       "<div>\n",
       "<style scoped>\n",
       "    .dataframe tbody tr th:only-of-type {\n",
       "        vertical-align: middle;\n",
       "    }\n",
       "\n",
       "    .dataframe tbody tr th {\n",
       "        vertical-align: top;\n",
       "    }\n",
       "\n",
       "    .dataframe thead th {\n",
       "        text-align: right;\n",
       "    }\n",
       "</style>\n",
       "<table border=\"1\" class=\"dataframe\">\n",
       "  <thead>\n",
       "    <tr style=\"text-align: right;\">\n",
       "      <th></th>\n",
       "      <th>RegionName</th>\n",
       "      <th>ROI</th>\n",
       "      <th>CV</th>\n",
       "    </tr>\n",
       "  </thead>\n",
       "  <tbody>\n",
       "    <tr>\n",
       "      <th>213</th>\n",
       "      <td>30080</td>\n",
       "      <td>1.338346</td>\n",
       "      <td>0.186747</td>\n",
       "    </tr>\n",
       "    <tr>\n",
       "      <th>440</th>\n",
       "      <td>30066</td>\n",
       "      <td>1.028869</td>\n",
       "      <td>0.161053</td>\n",
       "    </tr>\n",
       "    <tr>\n",
       "      <th>1017</th>\n",
       "      <td>30064</td>\n",
       "      <td>0.949728</td>\n",
       "      <td>0.158261</td>\n",
       "    </tr>\n",
       "    <tr>\n",
       "      <th>1797</th>\n",
       "      <td>30152</td>\n",
       "      <td>0.818302</td>\n",
       "      <td>0.144289</td>\n",
       "    </tr>\n",
       "    <tr>\n",
       "      <th>495</th>\n",
       "      <td>30101</td>\n",
       "      <td>0.704562</td>\n",
       "      <td>0.132489</td>\n",
       "    </tr>\n",
       "  </tbody>\n",
       "</table>\n",
       "</div>"
      ],
      "text/plain": [
       "      RegionName       ROI        CV\n",
       "213        30080  1.338346  0.186747\n",
       "440        30066  1.028869  0.161053\n",
       "1017       30064  0.949728  0.158261\n",
       "1797       30152  0.818302  0.144289\n",
       "495        30101  0.704562  0.132489"
      ]
     },
     "execution_count": 30,
     "metadata": {},
     "output_type": "execute_result"
    }
   ],
   "source": [
    "print('\\n Top 5 Zipcodes to Invest in')\n",
    "zc_best[['RegionName','ROI','CV']]"
   ]
  },
  {
   "cell_type": "code",
   "execution_count": 31,
   "metadata": {},
   "outputs": [],
   "source": [
    "# 1) 30080\n",
    "# 2) 30066\n",
    "# 3) 30064\n",
    "# 4) 30152\n",
    "# 5) 30101"
   ]
  },
  {
   "cell_type": "code",
   "execution_count": 32,
   "metadata": {},
   "outputs": [],
   "source": [
    "#for i in range(5):\n",
    "#    zc_best[i].value.plot(label=zc_best[i].RegionName[0],figsize=(15,6))\n",
    "#    plt.legend()"
   ]
  },
  {
   "cell_type": "markdown",
   "metadata": {},
   "source": [
    "# Step 2: Data Preprocessing"
   ]
  },
  {
   "cell_type": "code",
   "execution_count": 33,
   "metadata": {},
   "outputs": [],
   "source": [
    "# Get data in propper formatting.\n",
    "# dates, values\n",
    "# region name as name, dates as index column"
   ]
  },
  {
   "cell_type": "code",
   "execution_count": 34,
   "metadata": {},
   "outputs": [],
   "source": [
    "def get_datetimes(df,start_col=1):\n",
    "    return pd.to_datetime(df.columns.values[start_col:], format='%Y-%m')"
   ]
  },
  {
   "cell_type": "code",
   "execution_count": 35,
   "metadata": {},
   "outputs": [],
   "source": [
    "new_df  = pd.DataFrame()\n",
    "new_df['dates'] = get_datetimes(df,7)"
   ]
  },
  {
   "cell_type": "code",
   "execution_count": 36,
   "metadata": {},
   "outputs": [],
   "source": [
    "#dates = df_GA_2.columns[7:]\n",
    "#print(dates)"
   ]
  },
  {
   "cell_type": "markdown",
   "metadata": {},
   "source": [
    "# Format data from horizontal to vertical\n",
    "* Grab the date values from each zip code and make it a column in our new dataframe"
   ]
  },
  {
   "cell_type": "code",
   "execution_count": 37,
   "metadata": {},
   "outputs": [],
   "source": [
    "#new_df  = pd.DataFrame()\n",
    "#new_df['dates'] = dates\n",
    "\n",
    "#for index in range(df_GA_2.shape[0]):\n",
    "#    row = df_GA_2.iloc[index]\n",
    "#    region_name = row['RegionName']\n",
    "#    date_values = row[dates].values\n",
    "#    new_df[region_name] = date_values\n",
    "#new_df.head()"
   ]
  },
  {
   "cell_type": "code",
   "execution_count": 38,
   "metadata": {},
   "outputs": [],
   "source": [
    "#for zipcode in df.RegionName:\n",
    "#    row = df[df.RegionName==zipcode].iloc[:,7:]\n",
    "#    new_df[zipcode] = row.values[0]\n",
    "#new_df.set_index('dates',inplace=True)"
   ]
  },
  {
   "cell_type": "code",
   "execution_count": 39,
   "metadata": {},
   "outputs": [],
   "source": [
    "#print(new_df.shape)\n",
    "#new_df.head()"
   ]
  },
  {
   "cell_type": "code",
   "execution_count": 40,
   "metadata": {},
   "outputs": [
    {
     "name": "stdout",
     "output_type": "stream",
     "text": [
      "<class 'pandas.core.frame.DataFrame'>\n",
      "RangeIndex: 265 entries, 0 to 264\n",
      "Data columns (total 1 columns):\n",
      "dates    265 non-null datetime64[ns]\n",
      "dtypes: datetime64[ns](1)\n",
      "memory usage: 2.2 KB\n"
     ]
    }
   ],
   "source": [
    "new_df.info()"
   ]
  },
  {
   "cell_type": "markdown",
   "metadata": {},
   "source": [
    "# Change 'dates' column to datetime format"
   ]
  },
  {
   "cell_type": "code",
   "execution_count": 41,
   "metadata": {},
   "outputs": [],
   "source": [
    "#Did this above"
   ]
  },
  {
   "cell_type": "markdown",
   "metadata": {},
   "source": [
    "# Set 'dates' column as our index"
   ]
  },
  {
   "cell_type": "code",
   "execution_count": 42,
   "metadata": {},
   "outputs": [],
   "source": [
    "# Create New DF containing summary time series for region and each of the 3 counties."
   ]
  },
  {
   "cell_type": "code",
   "execution_count": 43,
   "metadata": {},
   "outputs": [],
   "source": [
    "Fulton_zipcodes = list(df_GA_2[df_GA_2.CountyName=='Fulton']['RegionName'])\n",
    "Dekalb_zipcodes = list(df_GA_2[df_GA_2.CountyName=='Dekalb']['RegionName'])\n",
    "Cobb_zipcodes = list(df_GA_2[df_GA_2.CountyName=='Cobb']['RegionName'])"
   ]
  },
  {
   "cell_type": "code",
   "execution_count": 44,
   "metadata": {},
   "outputs": [
    {
     "name": "stdout",
     "output_type": "stream",
     "text": [
      "[30331, 30022, 30004, 30075, 30309, 30076, 30324, 30350, 30328, 30316, 30305, 30213, 30342, 30308, 30005, 30306, 30327, 30307, 30291, 30009, 30317, 30326, 30268, 30363]\n"
     ]
    }
   ],
   "source": [
    "print(Fulton_zipcodes)"
   ]
  },
  {
   "cell_type": "code",
   "execution_count": 45,
   "metadata": {},
   "outputs": [
    {
     "name": "stdout",
     "output_type": "stream",
     "text": [
      "[30058, 30319, 30032, 30034, 30038, 30084, 30338, 30294, 30033, 30087, 30329, 30341, 30030, 30360, 30288, 30002, 30079]\n"
     ]
    }
   ],
   "source": [
    "print(Dekalb_zipcodes)"
   ]
  },
  {
   "cell_type": "code",
   "execution_count": 46,
   "metadata": {},
   "outputs": [
    {
     "name": "stdout",
     "output_type": "stream",
     "text": [
      "[30080, 30062, 30127, 30066, 30101, 30067, 30144, 30064, 30339, 30126, 30152, 30102, 30060, 30068, 30082, 30008, 30168, 30106]\n"
     ]
    }
   ],
   "source": [
    "print(Cobb_zipcodes)"
   ]
  },
  {
   "cell_type": "code",
   "execution_count": 47,
   "metadata": {},
   "outputs": [
    {
     "ename": "KeyError",
     "evalue": "\"None of [Int64Index([30331, 30022, 30004, 30075, 30309, 30076, 30324, 30350, 30328,\\n            30316, 30305, 30213, 30342, 30308, 30005, 30306, 30327, 30307,\\n            30291, 30009, 30317, 30326, 30268, 30363],\\n           dtype='int64')] are in the [columns]\"",
     "output_type": "error",
     "traceback": [
      "\u001b[0;31m---------------------------------------------------------------------------\u001b[0m",
      "\u001b[0;31mKeyError\u001b[0m                                  Traceback (most recent call last)",
      "\u001b[0;32m<ipython-input-47-c430a227e41c>\u001b[0m in \u001b[0;36m<module>\u001b[0;34m()\u001b[0m\n\u001b[1;32m      1\u001b[0m \u001b[0msummary_df\u001b[0m \u001b[0;34m=\u001b[0m \u001b[0mpd\u001b[0m\u001b[0;34m.\u001b[0m\u001b[0mDataFrame\u001b[0m\u001b[0;34m(\u001b[0m\u001b[0;34m)\u001b[0m\u001b[0;34m\u001b[0m\u001b[0;34m\u001b[0m\u001b[0m\n\u001b[1;32m      2\u001b[0m \u001b[0msummary_df\u001b[0m\u001b[0;34m[\u001b[0m\u001b[0;34m'Region'\u001b[0m\u001b[0;34m]\u001b[0m \u001b[0;34m=\u001b[0m \u001b[0mnew_df\u001b[0m\u001b[0;34m.\u001b[0m\u001b[0mmean\u001b[0m\u001b[0;34m(\u001b[0m\u001b[0maxis\u001b[0m\u001b[0;34m=\u001b[0m\u001b[0;36m1\u001b[0m\u001b[0;34m)\u001b[0m\u001b[0;34m\u001b[0m\u001b[0;34m\u001b[0m\u001b[0m\n\u001b[0;32m----> 3\u001b[0;31m \u001b[0msummary_df\u001b[0m\u001b[0;34m[\u001b[0m\u001b[0;34m'Fulton'\u001b[0m\u001b[0;34m]\u001b[0m \u001b[0;34m=\u001b[0m \u001b[0mnew_df\u001b[0m\u001b[0;34m[\u001b[0m\u001b[0mFulton_zipcodes\u001b[0m\u001b[0;34m]\u001b[0m\u001b[0;34m.\u001b[0m\u001b[0mmean\u001b[0m\u001b[0;34m(\u001b[0m\u001b[0maxis\u001b[0m\u001b[0;34m=\u001b[0m\u001b[0;36m1\u001b[0m\u001b[0;34m)\u001b[0m\u001b[0;34m\u001b[0m\u001b[0;34m\u001b[0m\u001b[0m\n\u001b[0m\u001b[1;32m      4\u001b[0m \u001b[0msummary_df\u001b[0m\u001b[0;34m[\u001b[0m\u001b[0;34m'Dekalb'\u001b[0m\u001b[0;34m]\u001b[0m \u001b[0;34m=\u001b[0m \u001b[0mnew_df\u001b[0m\u001b[0;34m[\u001b[0m\u001b[0mDekalb_zipcodes\u001b[0m\u001b[0;34m]\u001b[0m\u001b[0;34m.\u001b[0m\u001b[0mmean\u001b[0m\u001b[0;34m(\u001b[0m\u001b[0maxis\u001b[0m\u001b[0;34m=\u001b[0m\u001b[0;36m1\u001b[0m\u001b[0;34m)\u001b[0m\u001b[0;34m\u001b[0m\u001b[0;34m\u001b[0m\u001b[0m\n\u001b[1;32m      5\u001b[0m \u001b[0msummary_df\u001b[0m\u001b[0;34m[\u001b[0m\u001b[0;34m'Cobb'\u001b[0m\u001b[0;34m]\u001b[0m \u001b[0;34m=\u001b[0m \u001b[0mnew_df\u001b[0m\u001b[0;34m[\u001b[0m\u001b[0mCobb_zipcodes\u001b[0m\u001b[0;34m]\u001b[0m\u001b[0;34m.\u001b[0m\u001b[0mmean\u001b[0m\u001b[0;34m(\u001b[0m\u001b[0maxis\u001b[0m\u001b[0;34m=\u001b[0m\u001b[0;36m1\u001b[0m\u001b[0;34m)\u001b[0m\u001b[0;34m\u001b[0m\u001b[0;34m\u001b[0m\u001b[0m\n",
      "\u001b[0;32m/Users/bryanjamieson/opt/anaconda3/envs/learn-env/lib/python3.6/site-packages/pandas/core/frame.py\u001b[0m in \u001b[0;36m__getitem__\u001b[0;34m(self, key)\u001b[0m\n\u001b[1;32m   2999\u001b[0m             \u001b[0;32mif\u001b[0m \u001b[0mis_iterator\u001b[0m\u001b[0;34m(\u001b[0m\u001b[0mkey\u001b[0m\u001b[0;34m)\u001b[0m\u001b[0;34m:\u001b[0m\u001b[0;34m\u001b[0m\u001b[0;34m\u001b[0m\u001b[0m\n\u001b[1;32m   3000\u001b[0m                 \u001b[0mkey\u001b[0m \u001b[0;34m=\u001b[0m \u001b[0mlist\u001b[0m\u001b[0;34m(\u001b[0m\u001b[0mkey\u001b[0m\u001b[0;34m)\u001b[0m\u001b[0;34m\u001b[0m\u001b[0;34m\u001b[0m\u001b[0m\n\u001b[0;32m-> 3001\u001b[0;31m             \u001b[0mindexer\u001b[0m \u001b[0;34m=\u001b[0m \u001b[0mself\u001b[0m\u001b[0;34m.\u001b[0m\u001b[0mloc\u001b[0m\u001b[0;34m.\u001b[0m\u001b[0m_convert_to_indexer\u001b[0m\u001b[0;34m(\u001b[0m\u001b[0mkey\u001b[0m\u001b[0;34m,\u001b[0m \u001b[0maxis\u001b[0m\u001b[0;34m=\u001b[0m\u001b[0;36m1\u001b[0m\u001b[0;34m,\u001b[0m \u001b[0mraise_missing\u001b[0m\u001b[0;34m=\u001b[0m\u001b[0;32mTrue\u001b[0m\u001b[0;34m)\u001b[0m\u001b[0;34m\u001b[0m\u001b[0;34m\u001b[0m\u001b[0m\n\u001b[0m\u001b[1;32m   3002\u001b[0m \u001b[0;34m\u001b[0m\u001b[0m\n\u001b[1;32m   3003\u001b[0m         \u001b[0;31m# take() does not accept boolean indexers\u001b[0m\u001b[0;34m\u001b[0m\u001b[0;34m\u001b[0m\u001b[0;34m\u001b[0m\u001b[0m\n",
      "\u001b[0;32m/Users/bryanjamieson/opt/anaconda3/envs/learn-env/lib/python3.6/site-packages/pandas/core/indexing.py\u001b[0m in \u001b[0;36m_convert_to_indexer\u001b[0;34m(self, obj, axis, is_setter, raise_missing)\u001b[0m\n\u001b[1;32m   1283\u001b[0m                 \u001b[0;31m# When setting, missing keys are not allowed, even with .loc:\u001b[0m\u001b[0;34m\u001b[0m\u001b[0;34m\u001b[0m\u001b[0;34m\u001b[0m\u001b[0m\n\u001b[1;32m   1284\u001b[0m                 \u001b[0mkwargs\u001b[0m \u001b[0;34m=\u001b[0m \u001b[0;34m{\u001b[0m\u001b[0;34m\"raise_missing\"\u001b[0m\u001b[0;34m:\u001b[0m \u001b[0;32mTrue\u001b[0m \u001b[0;32mif\u001b[0m \u001b[0mis_setter\u001b[0m \u001b[0;32melse\u001b[0m \u001b[0mraise_missing\u001b[0m\u001b[0;34m}\u001b[0m\u001b[0;34m\u001b[0m\u001b[0;34m\u001b[0m\u001b[0m\n\u001b[0;32m-> 1285\u001b[0;31m                 \u001b[0;32mreturn\u001b[0m \u001b[0mself\u001b[0m\u001b[0;34m.\u001b[0m\u001b[0m_get_listlike_indexer\u001b[0m\u001b[0;34m(\u001b[0m\u001b[0mobj\u001b[0m\u001b[0;34m,\u001b[0m \u001b[0maxis\u001b[0m\u001b[0;34m,\u001b[0m \u001b[0;34m**\u001b[0m\u001b[0mkwargs\u001b[0m\u001b[0;34m)\u001b[0m\u001b[0;34m[\u001b[0m\u001b[0;36m1\u001b[0m\u001b[0;34m]\u001b[0m\u001b[0;34m\u001b[0m\u001b[0;34m\u001b[0m\u001b[0m\n\u001b[0m\u001b[1;32m   1286\u001b[0m         \u001b[0;32melse\u001b[0m\u001b[0;34m:\u001b[0m\u001b[0;34m\u001b[0m\u001b[0;34m\u001b[0m\u001b[0m\n\u001b[1;32m   1287\u001b[0m             \u001b[0;32mtry\u001b[0m\u001b[0;34m:\u001b[0m\u001b[0;34m\u001b[0m\u001b[0;34m\u001b[0m\u001b[0m\n",
      "\u001b[0;32m/Users/bryanjamieson/opt/anaconda3/envs/learn-env/lib/python3.6/site-packages/pandas/core/indexing.py\u001b[0m in \u001b[0;36m_get_listlike_indexer\u001b[0;34m(self, key, axis, raise_missing)\u001b[0m\n\u001b[1;32m   1090\u001b[0m \u001b[0;34m\u001b[0m\u001b[0m\n\u001b[1;32m   1091\u001b[0m         self._validate_read_indexer(\n\u001b[0;32m-> 1092\u001b[0;31m             \u001b[0mkeyarr\u001b[0m\u001b[0;34m,\u001b[0m \u001b[0mindexer\u001b[0m\u001b[0;34m,\u001b[0m \u001b[0mo\u001b[0m\u001b[0;34m.\u001b[0m\u001b[0m_get_axis_number\u001b[0m\u001b[0;34m(\u001b[0m\u001b[0maxis\u001b[0m\u001b[0;34m)\u001b[0m\u001b[0;34m,\u001b[0m \u001b[0mraise_missing\u001b[0m\u001b[0;34m=\u001b[0m\u001b[0mraise_missing\u001b[0m\u001b[0;34m\u001b[0m\u001b[0;34m\u001b[0m\u001b[0m\n\u001b[0m\u001b[1;32m   1093\u001b[0m         )\n\u001b[1;32m   1094\u001b[0m         \u001b[0;32mreturn\u001b[0m \u001b[0mkeyarr\u001b[0m\u001b[0;34m,\u001b[0m \u001b[0mindexer\u001b[0m\u001b[0;34m\u001b[0m\u001b[0;34m\u001b[0m\u001b[0m\n",
      "\u001b[0;32m/Users/bryanjamieson/opt/anaconda3/envs/learn-env/lib/python3.6/site-packages/pandas/core/indexing.py\u001b[0m in \u001b[0;36m_validate_read_indexer\u001b[0;34m(self, key, indexer, axis, raise_missing)\u001b[0m\n\u001b[1;32m   1175\u001b[0m                 raise KeyError(\n\u001b[1;32m   1176\u001b[0m                     \"None of [{key}] are in the [{axis}]\".format(\n\u001b[0;32m-> 1177\u001b[0;31m                         \u001b[0mkey\u001b[0m\u001b[0;34m=\u001b[0m\u001b[0mkey\u001b[0m\u001b[0;34m,\u001b[0m \u001b[0maxis\u001b[0m\u001b[0;34m=\u001b[0m\u001b[0mself\u001b[0m\u001b[0;34m.\u001b[0m\u001b[0mobj\u001b[0m\u001b[0;34m.\u001b[0m\u001b[0m_get_axis_name\u001b[0m\u001b[0;34m(\u001b[0m\u001b[0maxis\u001b[0m\u001b[0;34m)\u001b[0m\u001b[0;34m\u001b[0m\u001b[0;34m\u001b[0m\u001b[0m\n\u001b[0m\u001b[1;32m   1178\u001b[0m                     )\n\u001b[1;32m   1179\u001b[0m                 )\n",
      "\u001b[0;31mKeyError\u001b[0m: \"None of [Int64Index([30331, 30022, 30004, 30075, 30309, 30076, 30324, 30350, 30328,\\n            30316, 30305, 30213, 30342, 30308, 30005, 30306, 30327, 30307,\\n            30291, 30009, 30317, 30326, 30268, 30363],\\n           dtype='int64')] are in the [columns]\""
     ]
    }
   ],
   "source": [
    "summary_df = pd.DataFrame()\n",
    "summary_df['Region'] = new_df.mean(axis=1)\n",
    "summary_df['Fulton'] = new_df[Fulton_zipcodes].mean(axis=1)\n",
    "summary_df['Dekalb'] = new_df[Dekalb_zipcodes].mean(axis=1)\n",
    "summary_df['Cobb'] = new_df[Cobb_zipcodes].mean(axis=1)"
   ]
  },
  {
   "cell_type": "markdown",
   "metadata": {},
   "source": [
    "# Step 3: EDA and Visualization"
   ]
  },
  {
   "cell_type": "code",
   "execution_count": null,
   "metadata": {},
   "outputs": [],
   "source": [
    "import matplotlib\n",
    "font = {\n",
    "        'weight' : 'bold',\n",
    "        'size'   : 22}\n",
    "\n",
    "matplotlib.rc('font', **font)\n",
    "\n",
    "# NOTE: if you visualizations are too cluttered to read, try calling 'plt.gcf().autofmt_xdate()'!"
   ]
  },
  {
   "cell_type": "code",
   "execution_count": null,
   "metadata": {},
   "outputs": [],
   "source": [
    "#plt.gcf().autofmt_xdate()"
   ]
  },
  {
   "cell_type": "code",
   "execution_count": null,
   "metadata": {},
   "outputs": [],
   "source": [
    "#new_df.plot(figsize=(20,7),legend=True)\n",
    "#plt.title(\"Mean Real Estate Prices for zipcodes in Fulton, Dekalb & Cobb County\",{'size':22});\n",
    "#plt.xlabel(\"Year\",{'size':22})\n",
    "#plt.ylabel(\"$\",{'size':22})"
   ]
  },
  {
   "cell_type": "code",
   "execution_count": null,
   "metadata": {},
   "outputs": [],
   "source": [
    "summary_df.plot(figsize=(20,7),legend=True)\n",
    "plt.title(\"Mean Real Estate Prices in Fulton, Dekalb and Cobb Counties\",{'size':22});\n",
    "plt.xlabel(\"Year\",{'size':22})\n",
    "plt.ylabel(\"$\",{'size':22})\n",
    "\n",
    "# change index"
   ]
  },
  {
   "cell_type": "code",
   "execution_count": null,
   "metadata": {},
   "outputs": [],
   "source": [
    "# Above we can see that Fulton is the most expensive county to live in and it's mean price has increased the most"
   ]
  },
  {
   "cell_type": "code",
   "execution_count": null,
   "metadata": {},
   "outputs": [],
   "source": [
    "# insert zip code selection from \"https://medium.com/@feraguilari/time-series-analysis-modfinalproyect-b9fb23c28309\"\n",
    "# Find top 5 zipcodes in Fulton by ROI - aka add new cell with ROI by zip\n",
    "# Then do forcast for 10 year ROI"
   ]
  },
  {
   "cell_type": "code",
   "execution_count": null,
   "metadata": {},
   "outputs": [],
   "source": [
    "# Add Rolling mean and std for zipcodes\n",
    "# Add ADFuller test"
   ]
  },
  {
   "cell_type": "markdown",
   "metadata": {},
   "source": [
    "# Step 4: Reshape from Wide to Long Format"
   ]
  },
  {
   "cell_type": "code",
   "execution_count": null,
   "metadata": {},
   "outputs": [],
   "source": [
    "# Time Series Analysis here"
   ]
  },
  {
   "cell_type": "code",
   "execution_count": null,
   "metadata": {},
   "outputs": [],
   "source": [
    "def melt_data(df):\n",
    "    melted = pd.melt(df, id_vars=['RegionName', 'City', 'State', 'Metro', 'CountyName'], var_name='time')\n",
    "    melted['time'] = pd.to_datetime(melted['time'], infer_datetime_format=True)\n",
    "    melted = melted.dropna(subset=['value'])\n",
    "    return melted.groupby('time').aggregate({'value':'mean'})"
   ]
  },
  {
   "cell_type": "code",
   "execution_count": null,
   "metadata": {},
   "outputs": [],
   "source": []
  },
  {
   "cell_type": "code",
   "execution_count": null,
   "metadata": {},
   "outputs": [],
   "source": []
  },
  {
   "cell_type": "code",
   "execution_count": null,
   "metadata": {},
   "outputs": [],
   "source": []
  },
  {
   "cell_type": "code",
   "execution_count": null,
   "metadata": {},
   "outputs": [],
   "source": []
  },
  {
   "cell_type": "markdown",
   "metadata": {},
   "source": [
    "# Step 5: ARIMA Modeling"
   ]
  },
  {
   "cell_type": "code",
   "execution_count": null,
   "metadata": {},
   "outputs": [],
   "source": [
    "split_date = '2017-08'\n",
    "training, validation = summary_df[:split_date].Region, summary_df[split_date:].Region\n",
    "ts = summary_df.Region"
   ]
  },
  {
   "cell_type": "code",
   "execution_count": null,
   "metadata": {},
   "outputs": [],
   "source": [
    "p_values = [0, 1, 2, 4, 6, 8, 10]\n",
    "d_values = range(0, 3)\n",
    "q_values = range(0, 3)\n",
    "warnings.filterwarnings(\"ignore\")\n",
    "evaluate_models(summary_df.values, p_values, d_values, q_values)"
   ]
  },
  {
   "cell_type": "code",
   "execution_count": null,
   "metadata": {},
   "outputs": [],
   "source": []
  },
  {
   "cell_type": "code",
   "execution_count": null,
   "metadata": {},
   "outputs": [],
   "source": []
  },
  {
   "cell_type": "code",
   "execution_count": null,
   "metadata": {},
   "outputs": [],
   "source": []
  },
  {
   "cell_type": "code",
   "execution_count": null,
   "metadata": {},
   "outputs": [],
   "source": []
  },
  {
   "cell_type": "markdown",
   "metadata": {},
   "source": [
    "# Step 6: Interpreting Results"
   ]
  },
  {
   "cell_type": "code",
   "execution_count": null,
   "metadata": {},
   "outputs": [],
   "source": []
  },
  {
   "cell_type": "code",
   "execution_count": null,
   "metadata": {},
   "outputs": [],
   "source": []
  },
  {
   "cell_type": "code",
   "execution_count": null,
   "metadata": {},
   "outputs": [],
   "source": []
  }
 ],
 "metadata": {
  "kernelspec": {
   "display_name": "Python 3",
   "language": "python",
   "name": "python3"
  },
  "language_info": {
   "codemirror_mode": {
    "name": "ipython",
    "version": 3
   },
   "file_extension": ".py",
   "mimetype": "text/x-python",
   "name": "python",
   "nbconvert_exporter": "python",
   "pygments_lexer": "ipython3",
   "version": "3.6.9"
  }
 },
 "nbformat": 4,
 "nbformat_minor": 2
}
